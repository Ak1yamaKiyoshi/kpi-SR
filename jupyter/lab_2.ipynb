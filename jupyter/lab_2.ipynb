{
 "cells": [
  {
   "cell_type": "markdown",
   "metadata": {},
   "source": [
    "# Варіант 10"
   ]
  },
  {
   "cell_type": "code",
   "execution_count": 9,
   "metadata": {},
   "outputs": [],
   "source": [
    "import numpy as np\n",
    "import matplotlib.pyplot as plt\n",
    "import seaborn as sns\n",
    "import warnings \n",
    "from IPython.display import display, HTML\n",
    "\n",
    "warnings.filterwarnings(\"ignore\")\n"
   ]
  },
  {
   "cell_type": "code",
   "execution_count": null,
   "metadata": {},
   "outputs": [],
   "source": []
  },
  {
   "cell_type": "code",
   "execution_count": 10,
   "metadata": {},
   "outputs": [
    {
     "name": "stdout",
     "output_type": "stream",
     "text": [
      "Початкова матриця A:\n",
      "[[1.   0.42 0.54 0.66]\n",
      " [0.42 1.   0.32 0.44]\n",
      " [0.54 0.32 1.   0.22]\n",
      " [0.66 0.44 0.22 1.  ]]\n",
      "\n",
      "Початковий вектор b:\n",
      "[0.3 0.5 0.7 0.9]\n",
      "\n",
      "Матриця T після факторизації:\n",
      "[[ 1.        0.42      0.54      0.66    ]\n",
      " [ 0.        0.907524  0.102697  0.179389]\n",
      " [ 0.        0.        0.835376 -0.185333]\n",
      " [ 0.        0.        0.        0.7056  ]]\n",
      "\n",
      "Проміжний вектор y:\n",
      "[0.3 0.  0.  0. ]\n",
      "\n",
      "Проміжний вектор y:\n",
      "[0.3     0.41211 0.      0.     ]\n",
      "\n",
      "Проміжний вектор y:\n",
      "[0.3      0.41211  0.593359 0.      ]\n",
      "\n",
      "Проміжний вектор y:\n",
      "[0.3      0.41211  0.593359 1.045976]\n",
      "\n",
      "Розв'язок x:\n",
      "[-1.257793  0.043487  1.039167  1.482392]\n",
      "\n",
      "Вектор нев'язки r = b - Ax:\n",
      "[-0.e+00  0.e+00 -1.e-06  0.e+00]\n"
     ]
    }
   ],
   "source": [
    "import numpy as np\n",
    "\n",
    "def square_root_method(A, b, precision=6):\n",
    "    n = len(A)\n",
    "    T = np.zeros((n, n))\n",
    "    \n",
    "    print(\"Початкова матриця A:\")\n",
    "    print(np.round(A, precision))\n",
    "    print(\"\\nПочатковий вектор b:\")\n",
    "    print(np.round(b, precision))\n",
    "    \n",
    "    for i in range(n):\n",
    "        for j in range(i, n):\n",
    "            if i == j:\n",
    "                sum_k = sum(T[k, i]**2 for k in range(i))\n",
    "                T[i, i] = np.sqrt(A[i, i] - sum_k)\n",
    "            else:\n",
    "                sum_k = sum(T[k, i] * T[k, j] for k in range(i))\n",
    "                T[i, j] = (A[i, j] - sum_k) / T[i, i]\n",
    "            \n",
    "            T[i, j] = round(T[i, j], precision)\n",
    "    \n",
    "    print(\"\\nМатриця T після факторизації:\")\n",
    "    print(np.round(T, precision))\n",
    "    \n",
    "\n",
    "    y = np.zeros(n)\n",
    "    for i in range(n):\n",
    "        sum_k = sum(T[k, i] * y[k] for k in range(i))\n",
    "        y[i] = (b[i] - sum_k) / T[i, i]\n",
    "        y[i] = round(y[i], precision)\n",
    "    \n",
    "    print(\"\\nПроміжний вектор y:\")\n",
    "    print(np.round(y, precision))\n",
    "    \n",
    "    x = np.zeros(n)\n",
    "    for i in range(n-1, -1, -1):\n",
    "        sum_k = sum(T[i, k] * x[k] for k in range(i+1, n))\n",
    "        x[i] = (y[i] - sum_k) / T[i, i]\n",
    "        x[i] = round(x[i], precision)\n",
    "    \n",
    "    return x\n",
    "\n",
    "# Використання методу\n",
    "A = np.array([\n",
    "    [1.0, 0.42, 0.54, 0.66],\n",
    "    [0.42, 1.0, 0.32, 0.44],\n",
    "    [0.54, 0.32, 1.0, 0.22],\n",
    "    [0.66, 0.44, 0.22, 1.0]\n",
    "])\n",
    "\n",
    "b = np.array([0.3, 0.5, 0.7, 0.9])\n",
    "\n",
    "x = square_root_method(A, b)\n",
    "\n",
    "print(\"\\nРозв'язок x:\")\n",
    "print(np.round(x, 6))\n",
    "\n",
    "# Перевірка\n",
    "r = b - np.dot(A, x)\n",
    "print(\"\\nВектор нев'язки r = b - Ax:\")\n",
    "print(np.round(r, 6))"
   ]
  },
  {
   "cell_type": "code",
   "execution_count": null,
   "metadata": {},
   "outputs": [],
   "source": []
  },
  {
   "cell_type": "code",
   "execution_count": null,
   "metadata": {},
   "outputs": [],
   "source": []
  },
  {
   "cell_type": "code",
   "execution_count": null,
   "metadata": {},
   "outputs": [],
   "source": []
  }
 ],
 "metadata": {
  "kernelspec": {
   "display_name": "base310",
   "language": "python",
   "name": "python3"
  },
  "language_info": {
   "codemirror_mode": {
    "name": "ipython",
    "version": 3
   },
   "file_extension": ".py",
   "mimetype": "text/x-python",
   "name": "python",
   "nbconvert_exporter": "python",
   "pygments_lexer": "ipython3",
   "version": "3.10.14"
  }
 },
 "nbformat": 4,
 "nbformat_minor": 2
}
