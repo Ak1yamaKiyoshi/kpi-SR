{
 "cells": [
  {
   "cell_type": "markdown",
   "metadata": {},
   "source": [
    "# Варіант 10"
   ]
  },
  {
   "cell_type": "code",
   "execution_count": 5,
   "metadata": {},
   "outputs": [],
   "source": [
    "import numpy as np\n",
    "import matplotlib.pyplot as plt\n",
    "import seaborn as sns\n",
    "import warnings \n",
    "from IPython.display import display, HTML\n",
    "\n",
    "warnings.filterwarnings(\"ignore\")\n"
   ]
  },
  {
   "cell_type": "code",
   "execution_count": 6,
   "metadata": {},
   "outputs": [],
   "source": [
    "import numpy as np\n",
    "\n",
    "matrix_a = np.matrix([\n",
    "    [1.0, 0.42, 0.54, 0.66],\n",
    "    [0.42, 1., 0.32, 0.44],\n",
    "    [0.54, 0.32, 1., 0.22],\n",
    "    [0.66, 0.44, 0.22,  1.]   \n",
    "])\n",
    "\n",
    "matrix_b = np.array([\n",
    "    [0.3],\n",
    "    [0.5],\n",
    "    [0.7],\n",
    "    [0.9]\n",
    "])"
   ]
  },
  {
   "cell_type": "code",
   "execution_count": 7,
   "metadata": {},
   "outputs": [],
   "source": [
    "def print_matrix(matrix):\n",
    "    for row in matrix:\n",
    "        print(\" \".join(f\"{value:.6f}\" for value in row))\n",
    "\n",
    "\n",
    "def print_results(result):\n",
    "    for i, val in enumerate(result):\n",
    "        print(f\"x{i+1} = {val[0]:.6f}\")\n",
    "\n",
    "\n",
    "def check_on_symmetric(matrix_A):\n",
    "    if (matrix_A != matrix_A.T).any():\n",
    "        return \"Matrix is non symmetric! We must use Gauss's method\"\n",
    "    return \"Matrix is symmetric!\"\n",
    "\n",
    "\n",
    "def residual_vector(matrix_A, matrix_B, matrix_X):\n",
    "    residual = matrix_X[:, 0]\n",
    "    return residual\n",
    "\n",
    "def gauss_method(matrix_A, matrix_B):\n",
    "    resulting_string = \"\"\n",
    "    # Об'єднання матриць A і B\n",
    "    temp_matrix = np.concatenate((matrix_A, matrix_B), axis=1)\n",
    "    \n",
    "    for k in range(temp_matrix.shape[0]):\n",
    "        temp_value = temp_matrix[k, k]\n",
    "        if temp_value != 0:\n",
    "            # Нормалізація k-го рядка\n",
    "            temp_matrix[k] /= temp_value\n",
    "        \n",
    "        for i in range(temp_matrix.shape[0]):\n",
    "            if i != k and temp_matrix[i, k] != 0:\n",
    "                temp_value = temp_matrix[i, k]\n",
    "                # Віднімання k-го рядка від i-го\n",
    "                temp_matrix[i] -= temp_value * temp_matrix[k]\n",
    "        \n",
    "        # Збереження проміжного результату\n",
    "        if k != temp_matrix.shape[0] - 1:\n",
    "            resulting_string += \"\\n<strong>Проміжний результат:</strong>\\n\" + str(temp_matrix) + \"\\n\"\n",
    "    \n",
    "    # Виділення розв'язку\n",
    "    matrix_X = temp_matrix[:, -1].reshape((-1, 1))\n",
    "    \n",
    "    # Збереження кінцевого результату\n",
    "    resulting_string += \"\\n<strong>Результат:</strong>\\n\" + str(temp_matrix) + \"\\n\"\n",
    "    \n",
    "    return resulting_string, matrix_X\n",
    "\n"
   ]
  },
  {
   "cell_type": "code",
   "execution_count": 8,
   "metadata": {},
   "outputs": [
    {
     "data": {
      "text/html": [
       "<div><div style=\"white-space: pre;\"><h2 style=\"white-space: pre;\">### Matrix A:</h2><p style=\"white-space: pre;\">[[1.   0.42 0.54 0.66]\n",
       " [0.42 1.   0.32 0.44]\n",
       " [0.54 0.32 1.   0.22]\n",
       " [0.66 0.44 0.22 1.  ]]</p></div><div style=\"white-space: pre;\"><h2 style=\"white-space: pre;\">### Matrix B:</h2><p style=\"white-space: pre;\">[[0.3]\n",
       " [0.5]\n",
       " [0.7]\n",
       " [0.9]]</p></div><div style=\"white-space: pre;\"><h2 style=\"white-space: pre;\">### A symmetric?</h2><p style=\"white-space: pre;\">Matrix is symmetric!</p></div><div style=\"white-space: pre;\"><h2 style=\"white-space: pre;\">### Gauss method:</h2><p style=\"white-space: pre;\">\n",
       "<strong>Проміжний результат:</strong>\n",
       "[[ 1.      0.42    0.54    0.66    0.3   ]\n",
       " [ 0.      0.8236  0.0932  0.1628  0.374 ]\n",
       " [ 0.      0.0932  0.7084 -0.1364  0.538 ]\n",
       " [ 0.      0.1628 -0.1364  0.5644  0.702 ]]\n",
       "\n",
       "<strong>Проміжний результат:</strong>\n",
       "[[ 1.          0.          0.49247207  0.57697912  0.10927635]\n",
       " [ 0.          1.          0.11316173  0.19766877  0.45410393]\n",
       " [ 0.          0.          0.69785333 -0.15482273  0.49567751]\n",
       " [ 0.          0.         -0.15482273  0.53221952  0.62807188]]\n",
       "\n",
       "<strong>Проміжний результат:</strong>\n",
       "[[ 1.          0.          0.          0.68623685 -0.24052113]\n",
       " [ 0.          1.          0.          0.22277434  0.37372641]\n",
       " [ 0.          0.          1.         -0.22185569  0.71028896]\n",
       " [ 0.          0.          0.          0.49787122  0.73804075]]\n",
       "\n",
       "<strong>Результат:</strong>\n",
       "[[ 1.          0.          0.          0.         -1.25779375]\n",
       " [ 0.          1.          0.          0.          0.0434873 ]\n",
       " [ 0.          0.          1.          0.          1.03916625]\n",
       " [ 0.          0.          0.          1.          1.48239288]]\n",
       "</p></div><div style=\"white-space: pre;\"><h2 style=\"white-space: pre;\">### Residual vector:</h2><p style=\"white-space: pre;\">[[-1.25779375]\n",
       " [ 0.0434873 ]\n",
       " [ 1.03916625]\n",
       " [ 1.48239288]]</p></div></div>"
      ],
      "text/plain": [
       "<IPython.core.display.HTML object>"
      ]
     },
     "metadata": {},
     "output_type": "display_data"
    }
   ],
   "source": [
    "def htag(string, tag): return f\"\"\"<{tag} style=\"white-space: pre;\">{string}</{tag}>\"\"\"\n",
    "def labeled_container(label, content): return htag(f\"{htag(label, 'h2')}{htag(content, 'p') }\", 'div')\n",
    "\n",
    "logs, matrix_X = gauss_method(matrix_a, matrix_b)\n",
    "residual = residual_vector(matrix_a, matrix_b, matrix_X)\n",
    "\n",
    "report = \"<div>\"\n",
    "report += labeled_container(\"### Matrix A:\", str(matrix_a))\n",
    "report += labeled_container(\"### Matrix B:\", str(matrix_b))\n",
    "report += labeled_container(\"### A symmetric?\", check_on_symmetric(matrix_a))\n",
    "report += labeled_container(\"### Gauss method:\", logs) \n",
    "report += labeled_container(\"### Residual vector:\", residual)\n",
    "report += \"</div>\"\n",
    "display(HTML(report))"
   ]
  },
  {
   "cell_type": "code",
   "execution_count": null,
   "metadata": {},
   "outputs": [],
   "source": []
  }
 ],
 "metadata": {
  "kernelspec": {
   "display_name": "base310",
   "language": "python",
   "name": "python3"
  },
  "language_info": {
   "codemirror_mode": {
    "name": "ipython",
    "version": 3
   },
   "file_extension": ".py",
   "mimetype": "text/x-python",
   "name": "python",
   "nbconvert_exporter": "python",
   "pygments_lexer": "ipython3",
   "version": "3.10.14"
  }
 },
 "nbformat": 4,
 "nbformat_minor": 2
}
