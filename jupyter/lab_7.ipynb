{
 "cells": [
  {
   "cell_type": "code",
   "execution_count": 2,
   "metadata": {},
   "outputs": [],
   "source": [
    "import numpy as np\n",
    "from scipy.integrate import quad\n",
    "from math import factorial\n",
    "import matplotlib.pyplot as plt\n",
    "import sympy as sp\n",
    "\n",
    "\n",
    "from scipy import linalg\n",
    "from numpy.polynomial import legendre as leg\n",
    "\n",
    "sp.init_printing(use_latex='mathjax')\n",
    "\n",
    "np.set_printoptions(precision=5)\n",
    "\n",
    "INTEGRATION_RANGE = 0.8, 1.7\n",
    "PRECISION = 0.0001\n",
    "a, b = INTEGRATION_RANGE\n",
    "\n",
    "def f(x):\n",
    "    return np.cos(x) / (x + 1)\n",
    "\n",
    "def f_prime1(x):\n",
    "    return -((x + 1) * np.sin(x) + np.cos(x)) / (x + 1) ** 2\n",
    "\n",
    "def f_prime2(x):\n",
    "    return (2 * (x + 1) * np.sin(x) - (x ** 2 + 2 * x - 1) * np.cos(x)) / (x + 1) ** 3\n",
    "\n",
    "def f_prime3(x):\n",
    "    return (3 * (x ** 2 + 2 * x - 1) * np.cos(x) + (x ** 3 + 3 * x ** 2 - 3 * x - 5) * np.sin(x)) / (x + 1) ** 4\n",
    "\n",
    "def f_prime_4(x):\n",
    "    return ((x ** 4 + 4 * x ** 3 - 6 * x ** 2 - 20 * x + 13) * np.cos(x) - 4 * (x ** 3 + 3 * x ** 2 - 3 * x - 5) * np.sin(x)) / (x + 1) ** 5\n",
    "\n",
    "def trapezoidal_integral(f, a, b, eps):\n",
    "    n = 2  \n",
    "    while True:\n",
    "        x = np.linspace(a, b, n + 1)\n",
    "        y = f(x)\n",
    "\n",
    "        integral = (b - a) / (2 * n) * (y[0] + 2 * np.sum(y[1:-1]) + y[-1])\n",
    "        \n",
    "        h = (b - a) / n\n",
    "        maximum = np.max(np.abs(f_prime2(np.linspace(a, b, 100))))\n",
    "        error = ((b - a) ** 3 / (12 * n ** 2)) * maximum\n",
    "\n",
    "        \n",
    "        if error < eps:\n",
    "            break\n",
    "        n *= 2  \n",
    "    return integral, error\n",
    "\n",
    "\n",
    "def leggauss(deg):\n",
    "    if not isinstance(deg, int) or deg <= 0:\n",
    "        raise ValueError(\"deg must be a positive integer\")\n",
    "    c = np.zeros(deg + 1)\n",
    "    c[-1] = 1\n",
    "    m = leg.legcompanion(c)\n",
    "    x = linalg.eigvalsh(m)\n",
    "    \n",
    "    fm = leg.legval(x, c[1:])\n",
    "    fm /= np.abs(fm).max()\n",
    "    df /= np.abs(df).max()\n",
    "    w = 1/(fm * df)\n",
    "    \n",
    "    w = (w + w[::-1])/2\n",
    "    x = (x - x[::-1])/2\n",
    "\n",
    "    w *= 2. / w.sum()\n",
    "    return x, w\n",
    "\n",
    "\n",
    "def gauss_quadrature(f, a, b, eps):\n",
    "    n = 1\n",
    "    prev_result = 0\n",
    "    \n",
    "    while True:\n",
    "        x, w = np.polynomial.legendre.leggauss(n)\n",
    "        t = 0.5 * (b - a) * x + 0.5 * (b + a)\n",
    "        current_result = 0.5 * (b - a) * np.sum(w * f(t))\n",
    " \n",
    "        error = abs(current_result - prev_result)\n",
    "\n",
    "        if error < eps and n > 1:\n",
    "            return current_result, error\n",
    "        prev_result = current_result\n",
    "        n *= 2\n"
   ]
  },
  {
   "cell_type": "code",
   "execution_count": null,
   "metadata": {},
   "outputs": [],
   "source": []
  },
  {
   "cell_type": "code",
   "execution_count": 3,
   "metadata": {},
   "outputs": [
    {
     "data": {
      "text/latex": [
       "$\\displaystyle \\int_{0.8}^{1.7} \\frac{\\cos(x)}{x + 1} dx$"
      ],
      "text/plain": [
       "<IPython.core.display.Math object>"
      ]
     },
     "metadata": {},
     "output_type": "display_data"
    },
    {
     "data": {
      "text/latex": [
       "$\\displaystyle \\text{Метод трапецій: } \\int_a^b f(x) dx \\approx \\frac{b-a}{2n} \\left[f(a) + 2\\sum_{i=1}^{n-1} f(x_i) + f(b)\\right]$"
      ],
      "text/plain": [
       "<IPython.core.display.Math object>"
      ]
     },
     "metadata": {},
     "output_type": "display_data"
    },
    {
     "data": {
      "text/latex": [
       "$\\displaystyle \\text{Метод Гауса: } \\int_a^b f(x) dx \\approx \\sum_{i=1}^n w_i f(x_i)$"
      ],
      "text/plain": [
       "<IPython.core.display.Math object>"
      ]
     },
     "metadata": {},
     "output_type": "display_data"
    },
    {
     "name": "stdout",
     "output_type": "stream",
     "text": [
      "\n",
      "Результати обчислень:\n"
     ]
    },
    {
     "data": {
      "text/latex": [
       "$\\displaystyle I_{trap} = 0.13503743$"
      ],
      "text/plain": [
       "<IPython.core.display.Math object>"
      ]
     },
     "metadata": {},
     "output_type": "display_data"
    },
    {
     "data": {
      "text/latex": [
       "$\\displaystyle I_{Gauss} = 0.13496783$"
      ],
      "text/plain": [
       "<IPython.core.display.Math object>"
      ]
     },
     "metadata": {},
     "output_type": "display_data"
    },
    {
     "data": {
      "text/latex": [
       "$\\displaystyle error_{trap} = 0.00007278$"
      ],
      "text/plain": [
       "<IPython.core.display.Math object>"
      ]
     },
     "metadata": {},
     "output_type": "display_data"
    },
    {
     "data": {
      "text/latex": [
       "$\\displaystyle error_{Gauss} = 0.00001231$"
      ],
      "text/plain": [
       "<IPython.core.display.Math object>"
      ]
     },
     "metadata": {},
     "output_type": "display_data"
    },
    {
     "name": "stdout",
     "output_type": "stream",
     "text": [
      "\n",
      "Порівняння результатів:\n"
     ]
    },
    {
     "data": {
      "text/latex": [
       "$\\displaystyle \\text{Різниця між трапецоїдним методом і numpy.trapz:          }0.00006958$"
      ],
      "text/plain": [
       "<IPython.core.display.Math object>"
      ]
     },
     "metadata": {},
     "output_type": "display_data"
    },
    {
     "data": {
      "text/latex": [
       "$\\displaystyle \\text{Різниця між трапецоїдним методом і scipy.integrate.quad: }0.00006960$"
      ],
      "text/plain": [
       "<IPython.core.display.Math object>"
      ]
     },
     "metadata": {},
     "output_type": "display_data"
    },
    {
     "data": {
      "text/latex": [
       "$\\displaystyle \\text{Різниця між методом Гауса і quad: }0.00000000$"
      ],
      "text/plain": [
       "<IPython.core.display.Math object>"
      ]
     },
     "metadata": {},
     "output_type": "display_data"
    },
    {
     "data": {
      "image/png": "[encoded data removed]",
      "text/plain": [
       "<Figure size 1000x600 with 1 Axes>"
      ]
     },
     "metadata": {},
     "output_type": "display_data"
    }
   ],
   "source": [
    "import numpy as np\n",
    "from scipy.integrate import quad\n",
    "import matplotlib.pyplot as plt\n",
    "from IPython.display import display, Math\n",
    "\n",
    "a, b = 0.8, 1.7\n",
    "PRECISION = 0.0001\n",
    "\n",
    "def f(x):\n",
    "    return np.cos(x) / (x + 1)\n",
    "\n",
    "display(Math(r'\\int_{0.8}^{1.7} \\frac{\\cos(x)}{x + 1} dx'))\n",
    "\n",
    "display(Math(r'\\text{Метод трапецій: } \\int_a^b f(x) dx \\approx \\frac{b-a}{2n} \\left[f(a) + 2\\sum_{i=1}^{n-1} f(x_i) + f(b)\\right]'))\n",
    "display(Math(r'\\text{Метод Гауса: } \\int_a^b f(x) dx \\approx \\sum_{i=1}^n w_i f(x_i)'))\n",
    "\n",
    "trapezoidal_result, trapezoidal_error = trapezoidal_integral(f, a, b, PRECISION)\n",
    "gauss_result, gauss_error = gauss_quadrature(f, a, b, PRECISION)\n",
    "\n",
    "x_np = np.linspace(a, b, 1000)\n",
    "y_np = f(x_np)\n",
    "np_trapz_result = np.trapz(y_np, x_np)\n",
    "\n",
    "print(\"\\nРезультати обчислень:\")\n",
    "display(Math(r'I_{trap} = ' + f'{trapezoidal_result:.8f}'))\n",
    "display(Math(r'I_{Gauss} = ' + f'{gauss_result:.8f}'))\n",
    "display(Math(r'error_{trap} = ' + f'{trapezoidal_error:.8f}'))\n",
    "display(Math(r'error_{Gauss} = ' + f'{gauss_error:.8f}'))\n",
    "\n",
    "\n",
    "quad_result, quad_error = quad(f, a, b)\n",
    "\n",
    "print(\"\\nПорівняння результатів:\")\n",
    "display(Math(r'\\text{Різниця між трапецоїдним методом і numpy.trapz:          }' + f'{abs(trapezoidal_result - np_trapz_result):.8f}'))\n",
    "display(Math(r'\\text{Різниця між трапецоїдним методом і scipy.integrate.quad: }' + f'{abs(trapezoidal_result - quad_result):.8f}'))\n",
    "display(Math(r'\\text{Різниця між методом Гауса і quad: }' + f'{abs(gauss_result - quad_result):.8f}'))\n",
    "\n",
    "\n",
    "x_plot = np.linspace(a, b, 1000)\n",
    "y_plot = f(x_plot)\n",
    "plt.figure(figsize=(10, 6))\n",
    "plt.plot(x_plot, y_plot, label='f(x)')\n",
    "plt.fill_between(x_plot, y_plot, alpha=0.3)\n",
    "plt.title('Графік функції та область інтегрування')\n",
    "plt.xlabel('x')\n",
    "plt.ylabel('f(x)')\n",
    "plt.legend()\n",
    "plt.grid(True)\n",
    "plt.show()"
   ]
  },
  {
   "cell_type": "code",
   "execution_count": null,
   "metadata": {},
   "outputs": [],
   "source": []
  }
 ],
 "metadata": {
  "kernelspec": {
   "display_name": "base310",
   "language": "python",
   "name": "python3"
  },
  "language_info": {
   "codemirror_mode": {
    "name": "ipython",
    "version": 3
   },
   "file_extension": ".py",
   "mimetype": "text/x-python",
   "name": "python",
   "nbconvert_exporter": "python",
   "pygments_lexer": "ipython3",
   "version": "3.10.14"
  }
 },
 "nbformat": 4,
 "nbformat_minor": 2
}
