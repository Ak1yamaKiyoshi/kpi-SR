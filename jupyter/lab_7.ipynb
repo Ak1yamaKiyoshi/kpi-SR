{
 "cells": [
  {
   "cell_type": "code",
   "execution_count": 35,
   "metadata": {},
   "outputs": [
    {
     "name": "stdout",
     "output_type": "stream",
     "text": [
      "Початковий інтеграл:\n"
     ]
    },
    {
     "data": {
      "text/latex": [
       "$\\displaystyle \\int\\limits_{0.8}^{1.7} \\frac{\\cos{\\left(x \\right)}}{x + 1}\\, dx$"
      ],
      "text/plain": [
       "1.7          \n",
       " ⌠           \n",
       " ⎮  cos(x)   \n",
       " ⎮  ────── dx\n",
       " ⎮  x + 1    \n",
       " ⌡           \n",
       "0.8          "
      ]
     },
     "metadata": {},
     "output_type": "display_data"
    },
    {
     "name": "stdout",
     "output_type": "stream",
     "text": [
      "Simpson integration formula:\n"
     ]
    },
    {
     "data": {
      "text/latex": [
       "$\\displaystyle \\int^{b f(x) dx}_{a} = \\frac{\\left(- \\frac{a}{6} + \\frac{b}{6}\\right) \\left({y}_{0} + {y}_{2 n} + 2 \\sum_{i=1}^{n} \\left(2 {y}_{2 i - 1} + {y}_{2 i}\\right)\\right)}{n}$"
      ],
      "text/plain": [
       "                              ⎛                    n                          \n",
       "                              ⎜                   ___                         \n",
       "                              ⎜                   ╲                           \n",
       "                    ⎛  a   b⎞ ⎜                    ╲                          \n",
       "                    ⎜- ─ + ─⎟⋅⎜y[0] + y[2*n] + 2⋅  ╱   (2⋅y[2*i - 1] + y[2*i])\n",
       "                    ⎝  6   6⎠ ⎜                   ╱                           \n",
       "                              ⎜                   ‾‾‾                         \n",
       "                              ⎝                  i = 1                        \n",
       "\\int_a__b f(x) dx = ──────────────────────────────────────────────────────────\n",
       "                                                 n                            \n",
       "\n",
       "⎞\n",
       "⎟\n",
       "⎟\n",
       "⎟\n",
       "⎟\n",
       "⎟\n",
       "⎟\n",
       "⎠\n",
       "─\n",
       " "
      ]
     },
     "metadata": {},
     "output_type": "display_data"
    },
    {
     "name": "stdout",
     "output_type": "stream",
     "text": [
      "Gauss integration formula:\n"
     ]
    },
    {
     "data": {
      "text/latex": [
       "$\\displaystyle I = \\sum_{i=1}^{m} f{\\left({x}_{i} \\right)} {A}_{i}$"
      ],
      "text/plain": [
       "      m               \n",
       "     ___              \n",
       "     ╲                \n",
       "      ╲               \n",
       "I =   ╱   f(x[i])⋅A[i]\n",
       "     ╱                \n",
       "     ‾‾‾              \n",
       "    i = 1             "
      ]
     },
     "metadata": {},
     "output_type": "display_data"
    },
    {
     "name": "stdout",
     "output_type": "stream",
     "text": [
      "Legendre polynomials:\n"
     ]
    },
    {
     "data": {
      "text/latex": [
       "$\\displaystyle \\sum_{i=1}^{m} L_{m}{\\left({x}_{i} \\right)} {A}_{i} {x}_{i}^{k-1} = 0$"
      ],
      "text/plain": [
       "  m                            \n",
       " ___                           \n",
       " ╲                             \n",
       "  ╲                     k-1    \n",
       "  ╱   Lₘ(x[i])⋅A[i]⋅x[i]    = 0\n",
       " ╱                             \n",
       " ‾‾‾                           \n",
       "i = 1                          "
      ]
     },
     "metadata": {},
     "output_type": "display_data"
    },
    {
     "data": {
      "text/latex": [
       "$\\displaystyle \\text{False}$"
      ],
      "text/plain": [
       "False"
      ]
     },
     "metadata": {},
     "output_type": "display_data"
    },
    {
     "name": "stdout",
     "output_type": "stream",
     "text": [
      "Integration results:\n"
     ]
    },
    {
     "data": {
      "text/latex": [
       "$\\displaystyle I_{library} = 0.134967838396775$"
      ],
      "text/plain": [
       "I_{library} = 0.134967838396775"
      ]
     },
     "metadata": {},
     "output_type": "display_data"
    },
    {
     "data": {
      "text/latex": [
       "$\\displaystyle I_{Simpson} = 0.136080982211271$"
      ],
      "text/plain": [
       "I_{Simpson} = 0.136080982211271"
      ]
     },
     "metadata": {},
     "output_type": "display_data"
    },
    {
     "data": {
      "text/latex": [
       "$\\displaystyle I_{Gauss} = 0.134967838396775$"
      ],
      "text/plain": [
       "I_{Gauss} = 0.134967838396775"
      ]
     },
     "metadata": {},
     "output_type": "display_data"
    },
    {
     "name": "stdout",
     "output_type": "stream",
     "text": [
      "Original function:\n"
     ]
    },
    {
     "data": {
      "text/latex": [
       "$\\displaystyle f(x) = \\frac{\\cos{\\left(x \\right)}}{x + 1}$"
      ],
      "text/plain": [
       "       cos(x)\n",
       "f(x) = ──────\n",
       "       x + 1 "
      ]
     },
     "metadata": {},
     "output_type": "display_data"
    },
    {
     "name": "stdout",
     "output_type": "stream",
     "text": [
      "Fourth derivative:\n"
     ]
    },
    {
     "data": {
      "text/latex": [
       "$\\displaystyle f^{(4)}(x) = \\frac{- \\left(4 x^{3} + 12 x^{2} - 12 x - 20\\right) \\sin{\\left(x \\right)} + \\left(x^{4} + 4 x^{3} - 6 x^{2} - 20 x + 13\\right) \\cos{\\left(x \\right)}}{\\left(x + 1\\right)^{5}}$"
      ],
      "text/plain": [
       "                ⎛   3       2            ⎞          ⎛ 4      3      2         \n",
       "              - ⎝4⋅x  + 12⋅x  - 12⋅x - 20⎠⋅sin(x) + ⎝x  + 4⋅x  - 6⋅x  - 20⋅x +\n",
       "f__{(4)}(x) = ────────────────────────────────────────────────────────────────\n",
       "                                                       5                      \n",
       "                                                (x + 1)                       \n",
       "\n",
       "   ⎞       \n",
       " 13⎠⋅cos(x)\n",
       "───────────\n",
       "           \n",
       "           "
      ]
     },
     "metadata": {},
     "output_type": "display_data"
    },
    {
     "name": "stdout",
     "output_type": "stream",
     "text": [
      "Simpson integral error formula:\n"
     ]
    },
    {
     "data": {
      "text/latex": [
       "$\\displaystyle R_{4(f)} = \\frac{\\left|{\\frac{\\left(a - b\\right)^{5} \\left(\\left(4 x^{3} + 12 x^{2} - 12 x - 20\\right) \\sin{\\left(x \\right)} - \\left(x^{4} + 4 x^{3} - 6 x^{2} - 20 x + 13\\right) \\cos{\\left(x \\right)}\\right)}{n^{4} \\left(x + 1\\right)^{5}}}\\right|}{180}$"
      ],
      "text/plain": [
       "         │       5 ⎛⎛   3       2            ⎞          ⎛ 4      3      2     \n",
       "         │(a - b) ⋅⎝⎝4⋅x  + 12⋅x  - 12⋅x - 20⎠⋅sin(x) - ⎝x  + 4⋅x  - 6⋅x  - 20\n",
       "         │────────────────────────────────────────────────────────────────────\n",
       "         │                                     4        5                     \n",
       "         │                                    n ⋅(x + 1)                      \n",
       "R_4(f) = ─────────────────────────────────────────────────────────────────────\n",
       "                                                  180                         \n",
       "\n",
       "       ⎞       ⎞│\n",
       "⋅x + 13⎠⋅cos(x)⎠│\n",
       "────────────────│\n",
       "                │\n",
       "                │\n",
       "─────────────────\n",
       "                 "
      ]
     },
     "metadata": {},
     "output_type": "display_data"
    },
    {
     "data": {
      "text/latex": [
       "$\\displaystyle R_{4(f)} = 7.59687822490254 \\cdot 10^{-6}$"
      ],
      "text/plain": [
       "R_4(f) = 7.59687822490254e-6"
      ]
     },
     "metadata": {},
     "output_type": "display_data"
    },
    {
     "name": "stdout",
     "output_type": "stream",
     "text": [
      "Gauss integral error formula:\n"
     ]
    },
    {
     "data": {
      "text/latex": [
       "$\\displaystyle R_{m(f)} = \\left|{\\frac{\\left(- (a - b)\\right)^{m - 1} \\left(\\left(4 ξ^{3} + 12 ξ^{2} - 12 ξ - 20\\right) \\sin{\\left(ξ \\right)} - \\left(ξ^{4} + 4 ξ^{3} - 6 ξ^{2} - 20 ξ + 13\\right) \\cos{\\left(ξ \\right)}\\right) m!^{4}}{\\left(2 m + 1\\right) \\left(ξ + 1\\right)^{5} \\left(2 m\\right)!^{3}}}\\right|$"
      ],
      "text/plain": [
       "         │          m - 1 ⎛⎛   3       2            ⎞          ⎛ 4      3     \n",
       "         │(-(a - b))     ⋅⎝⎝4⋅ξ  + 12⋅ξ  - 12⋅ξ - 20⎠⋅sin(ξ) - ⎝ξ  + 4⋅ξ  - 6⋅\n",
       "R_m(f) = │────────────────────────────────────────────────────────────────────\n",
       "         │                                                    5       3       \n",
       "         │                                   (2⋅m + 1)⋅(ξ + 1) ⋅(2⋅m)!        \n",
       "\n",
       " 2            ⎞       ⎞   4│\n",
       "ξ  - 20⋅ξ + 13⎠⋅cos(ξ)⎠⋅m! │\n",
       "───────────────────────────│\n",
       "                           │\n",
       "                           │"
      ]
     },
     "metadata": {},
     "output_type": "display_data"
    },
    {
     "data": {
      "text/latex": [
       "$\\displaystyle R_{m(f)} = 2.37250446428571 \\cdot 10^{-7}$"
      ],
      "text/plain": [
       "R_m(f) = 2.37250446428571e-7"
      ]
     },
     "metadata": {},
     "output_type": "display_data"
    },
    {
     "name": "stdout",
     "output_type": "stream",
     "text": [
      "Error between Simpson integral and library result: 0.001113143814496259\n",
      "Error between Gauss integral and library result: 0.0\n"
     ]
    },
    {
     "data": {
      "image/png": "[encoded data removed]",
      "text/plain": [
       "<Figure size 800x600 with 1 Axes>"
      ]
     },
     "metadata": {},
     "output_type": "display_data"
    }
   ],
   "source": [
    "import numpy as np\n",
    "from scipy.integrate import quad\n",
    "from math import factorial\n",
    "import matplotlib.pyplot as plt\n",
    "import sympy as sp\n",
    "\n",
    "sp.init_printing(use_latex='mathjax')\n",
    "\n",
    "np.set_printoptions(precision=5)\n",
    "\n",
    "INTEGRATION_RANGE = 0.8, 1.7\n",
    "PRECISION = 0.0001\n",
    "\n",
    "# Виведення початкового інтегралу як формули LaTeX\n",
    "x = sp.Symbol('x')\n",
    "f_expr = sp.cos(x) / (x + 1)\n",
    "print(\"Початковий інтеграл:\")\n",
    "display(sp.Integral(f_expr, (x, *INTEGRATION_RANGE)))\n",
    "\n",
    "def simpson_integral(f, a, b, eps):\n",
    "    \"\"\"\n",
    "    Метод Сімпсона для обчислення інтегралу.\n",
    "\n",
    "    Формула Сімпсона:\n",
    "    ∫_a^b f(x) dx ≈ (b-a)/(6n) * [2∑_{i=1}^n (2y_{2i-1} + y_{2i}) + y_0 + y_{2n}]\n",
    "\n",
    "    Оцінка похибки:\n",
    "    |R_4(f)| ≤ ((b-a)^5) / (180n^4) * max_{x∈[a,b]} |f^{(4)}(x)|\n",
    "\n",
    "    Параметри:\n",
    "    - f: функція для інтегрування\n",
    "    - a, b: межі інтегрування\n",
    "    - eps: бажана точність\n",
    "\n",
    "    Повертає:\n",
    "    - значення інтегралу\n",
    "    - оцінку похибки\n",
    "    \"\"\"\n",
    "    n = 2  # початкова кількість інтервалів\n",
    "    while True:\n",
    "        x = np.linspace(a, b, n + 1)\n",
    "        y = f(x)\n",
    "        integral = np.trapz(y, x=x)\n",
    "        # Оцінка похибки для методу Сімпсона\n",
    "        h = (b - a) / n\n",
    "        maximum = np.max(np.abs(f_prime_4(np.linspace(a, b, 100))))\n",
    "        error = (((b - a) * h ** 4) / 180) * maximum\n",
    "        if error < eps:\n",
    "            break\n",
    "        n *= 2  # збільшення кількості інтервалів\n",
    "    return integral, error\n",
    "\n",
    "# Обчислення інтегралу методом Гауса\n",
    "def gauss_integral(f, a, b, eps):\n",
    "    \"\"\"\n",
    "    Метод Гауса для обчислення інтегралу.\n",
    "\n",
    "    Формула Гауса:\n",
    "    I = ∑_{i=1}^m A_i * f(x_i)\n",
    "\n",
    "    Оцінка похибки:\n",
    "    |R_m(f)| ≤ ((m!)^4 * (b-a)^(m-1)) / ((2m+1) * [(2m)!]^3) * max_{ξ∈[a,b]} |f^{(2m)}(ξ)|\n",
    "\n",
    "    Параметри:\n",
    "    - f: функція для інтегрування\n",
    "    - a, b: межі інтегрування\n",
    "    - eps: бажана точність\n",
    "\n",
    "    Повертає:\n",
    "    - значення інтегралу\n",
    "    - оцінку похибки\n",
    "    \"\"\"\n",
    "    # Використання scipy quad для обчислення інтегралу Гауса з заданою точністю\n",
    "    integral, error = quad(f, a, b, epsabs=eps)\n",
    "    # Оцінка похибки для методу Гауса\n",
    "    m = 2  # початкова кількість точок\n",
    "    while True:\n",
    "        r_expr = (factorial(m) ** 4 * (b - a) ** (2 * m + 1)) / ((2 * m + 1) * factorial(2 * m) ** 3)\n",
    "        if r_expr < eps:\n",
    "            break\n",
    "        m += 1\n",
    "    return integral, r_expr\n",
    "\n",
    "def f(x):\n",
    "    return np.cos(x) / (x + 1)\n",
    "\n",
    "def f_prime1(x):\n",
    "    return -((x + 1) * np.sin(x) + np.cos(x)) / (x + 1) ** 2\n",
    "\n",
    "def f_prime2(x):\n",
    "    return (2 * (x + 1) * np.sin(x) - (x ** 2 + 2 * x - 1) * np.cos(x)) / (x + 1) ** 3\n",
    "\n",
    "def f_prime3(x):\n",
    "    return (3 * (x ** 2 + 2 * x - 1) * np.cos(x) + (x ** 3 + 3 * x ** 2 - 3 * x - 5) * np.sin(x)) / (x + 1) ** 4\n",
    "\n",
    "def f_prime_4_sympy(x):\n",
    "    return ((x ** 4 + 4 * x ** 3 - 6 * x ** 2 - 20 * x + 13) * sp.cos(x) - 4 * (x ** 3 + 3 * x ** 2 - 3 * x - 5) * sp.sin(x)) / (x + 1) ** 5\n",
    "\n",
    "def f_prime_4(x):\n",
    "    return ((x ** 4 + 4 * x ** 3 - 6 * x ** 2 - 20 * x + 13) * np.cos(x) - 4 * (x ** 3 + 3 * x ** 2 - 3 * x - 5) * np.sin(x)) / (x + 1) ** 5\n",
    "\n",
    "# Обчислення інтегралу за допомогою бібліотечної функції\n",
    "library_result, _ = quad(f, *INTEGRATION_RANGE)\n",
    "\n",
    "# Обчислення інтегралу методом Сімпсона та методом Гауса\n",
    "simpson_result, simpson_error = simpson_integral(f, *INTEGRATION_RANGE, PRECISION)\n",
    "gauss_result, gauss_error = gauss_integral(f, *INTEGRATION_RANGE, PRECISION)\n",
    "\n",
    "# Обчислення похибок\n",
    "simpson_library_error = abs(simpson_result - library_result)\n",
    "gauss_library_error = abs(gauss_result - library_result)\n",
    "\n",
    "# Відображення формул інтегрування методом Сімпсона та Гауса\n",
    "print(\"Simpson integration formula:\")\n",
    "display(sp.Eq(sp.Symbol(r'\\int_a^b f(x) dx'), sp.Rational(1, 6) * (b - a) / sp.Symbol('n') * (2 * sp.Sum(2 * sp.IndexedBase('y')[2*sp.Symbol('i')-1] + sp.IndexedBase('y')[2*sp.Symbol('i')], (sp.Symbol('i'), 1, sp.Symbol('n'))) + sp.IndexedBase('y')[0] + sp.IndexedBase('y')[2*sp.Symbol('n')])))\n",
    "\n",
    "print(\"Gauss integration formula:\")\n",
    "display(sp.Eq(sp.Symbol('I'), sp.Sum(sp.IndexedBase('A')[sp.Symbol('i')] * sp.Function('f')(sp.IndexedBase('x')[sp.Symbol('i')]), (sp.Symbol('i'), 1, sp.Symbol('m')))))\n",
    "\n",
    "print(\"Legendre polynomials:\")\n",
    "display(sp.Eq(sp.Sum(sp.IndexedBase('x')[sp.Symbol('i')]**sp.Symbol('k-1') * sp.IndexedBase('A')[sp.Symbol('i')] * sp.Function('L_m')(sp.IndexedBase('x')[sp.Symbol('i')]), (sp.Symbol('i'), 1, sp.Symbol('m'))), 0))\n",
    "display(sp.Eq(sp.Symbol('k'), sp.Range(1, sp.Symbol('m'))))\n",
    "\n",
    "# Відображення результатів інтегрування у форматі LaTeX\n",
    "print(\"Integration results:\")\n",
    "display(sp.Eq(sp.Symbol('I_{library}'), library_result))\n",
    "display(sp.Eq(sp.Symbol('I_{Simpson}'), simpson_result))\n",
    "display(sp.Eq(sp.Symbol('I_{Gauss}'), gauss_result))\n",
    "\n",
    "# Відображення оригінальної функції та її четвертої похідної\n",
    "x = sp.Symbol('x')\n",
    "original_function = sp.cos(x) / (x + 1)\n",
    "fourth_derivative = f_prime_4_sympy(x)\n",
    "print(\"Original function:\")\n",
    "display(sp.Eq(sp.Symbol('f(x)'), original_function))\n",
    "print(\"Fourth derivative:\")\n",
    "display(sp.Eq(sp.Symbol('f^{(4)}(x)'), fourth_derivative))\n",
    "\n",
    "# Відображення формули похибки для методу Сімпсона\n",
    "a, b, n = sp.symbols('a b n')\n",
    "simpson_error_formula = sp.Abs(sp.Rational(1, 180) * (b - a)**5 * fourth_derivative / n**4)\n",
    "print(\"Simpson integral error formula:\")\n",
    "display(sp.Eq(sp.Symbol('R_4(f)'), simpson_error_formula))\n",
    "display(sp.Eq(sp.Symbol('R_4(f)'), simpson_error))\n",
    "\n",
    "# Відображення формули похибки для методу Гауса\n",
    "m, ξ = sp.symbols('m ξ')\n",
    "gauss_error_formula = sp.Abs(sp.factorial(m)**4 * (b - a)**(m - 1) / (sp.factorial(2*m)**3 * (2*m + 1)) * fourth_derivative.subs(x, ξ))\n",
    "print(\"Gauss integral error formula:\")\n",
    "display(sp.Eq(sp.Symbol('R_m(f)'), gauss_error_formula))\n",
    "display(sp.Eq(sp.Symbol('R_m(f)'), gauss_error))\n",
    "\n",
    "print(\"Error between Simpson integral and library result:\", simpson_library_error)\n",
    "print(\"Error between Gauss integral and library result:\", gauss_library_error)\n",
    "\n",
    "# Plotting the derivatives\n",
    "plt.figure(figsize=(8, 6))\n",
    "x_vals = np.linspace(*INTEGRATION_RANGE, 10000)\n",
    "plt.plot(x_vals, f_prime1(x_vals), label=\"f'(x)\", ls='--')\n",
    "plt.plot(x_vals, f_prime2(x_vals), label=\"f''(x)\", ls='--')\n",
    "plt.plot(x_vals, f_prime3(x_vals), label=\"f'''(x)\", ls='--')\n",
    "plt.plot(x_vals, f_prime_4(x_vals), label=\"f''''(x)\", ls='--')\n",
    "plt.xlabel(\"x\")\n",
    "plt.ylabel(\"y\")\n",
    "plt.legend()\n",
    "plt.grid()\n",
    "plt.show()"
   ]
  }
 ],
 "metadata": {
  "kernelspec": {
   "display_name": "base310",
   "language": "python",
   "name": "python3"
  },
  "language_info": {
   "codemirror_mode": {
    "name": "ipython",
    "version": 3
   },
   "file_extension": ".py",
   "mimetype": "text/x-python",
   "name": "python",
   "nbconvert_exporter": "python",
   "pygments_lexer": "ipython3",
   "version": "3.10.14"
  }
 },
 "nbformat": 4,
 "nbformat_minor": 2
}
