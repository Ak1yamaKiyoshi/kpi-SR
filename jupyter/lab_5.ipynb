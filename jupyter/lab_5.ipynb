{
 "cells": [
  {
   "cell_type": "code",
   "execution_count": 9,
   "metadata": {},
   "outputs": [],
   "source": [
    "import numpy as np"
   ]
  },
  {
   "cell_type": "code",
   "execution_count": null,
   "metadata": {},
   "outputs": [],
   "source": []
  },
  {
   "cell_type": "code",
   "execution_count": 10,
   "metadata": {},
   "outputs": [],
   "source": [
    "alhpa = 3 \n",
    "cooficients_lab:float = [0.0, -2.0, 1.0, 5.0, -2.0, 1.0]\n",
    "a5, a4, a3, a2, a1, a0 = cooficients_lab\n",
    "k = 3\n",
    "expression = f\"{a5}*(1+{alhpa})*x^5+{a4}*x^4+{a3}*x^3+{a2}*x^2+{a1}*x+{k*a0}\"\n",
    "simplified = \"-2x^4 + 1x^3 + 5x^2 - 2x^1 + 3\"\n",
    "koef = [-2, 1,  5, -2, 3]"
   ]
  },
  {
   "cell_type": "code",
   "execution_count": 11,
   "metadata": {},
   "outputs": [],
   "source": [
    "\n",
    "import math\n",
    "\n",
    "def result_function(a, kof):\n",
    "    result = 0\n",
    "    for i in range(len(kof)):\n",
    "        if i == len(kof) - 1:\n",
    "            result += kof[i]\n",
    "        else:\n",
    "            result += kof[i] * math.pow(a, len(kof) - i - 1)\n",
    "    return result\n",
    "\n",
    "def derivative(kof):\n",
    "    new_kof = [0] * (len(kof) - 1)\n",
    "    for i in range(len(kof) - 1):\n",
    "        new_kof[i] = kof[i] * (len(kof) - 1 - i)\n",
    "    return new_kof\n",
    "\n",
    "def method_bisection(kof, a, b):\n",
    "    # Задання точності\n",
    "    e = 0.000001\n",
    "    x = 0\n",
    "    n = 0\n",
    "    \n",
    "    while abs(b - a) > e:\n",
    "        n += 1\n",
    "        # Обчислення середньої точки\n",
    "        x = (a + b) / 2\n",
    "        \n",
    "        # Перевірка знаку функції на кінцях відрізка\n",
    "        if result_function(a, kof) * result_function(x, kof) < 0:\n",
    "            # Корінь знаходиться в лівій половині\n",
    "            b = x\n",
    "        else:\n",
    "            # Корінь знаходиться в правій половині\n",
    "            a = x\n",
    "    \n",
    "    print(\"Number of iteration:\", n)\n",
    "    return x\n",
    "\n",
    "def method_chord(kof, a, b):\n",
    "    # Задання точності\n",
    "    e = 0.000001\n",
    "    \n",
    "    # Обчислення похідних\n",
    "    fkof = derivative(kof)\n",
    "    skof = derivative(fkof)\n",
    "    \n",
    "    # Вибір початкових точок\n",
    "    if result_function((a + b) / 2, fkof) * result_function((a + b) / 2, skof) > 0:\n",
    "        x0 = b\n",
    "        x1 = a\n",
    "    else:\n",
    "        x0 = a\n",
    "        x1 = b\n",
    "    \n",
    "    current_x = 0\n",
    "    prev_x = x1\n",
    "    n = 0\n",
    "    \n",
    "    while True:\n",
    "        n += 1\n",
    "        # Обчислення нового наближення за формулою методу хорд\n",
    "        current_x = prev_x - result_function(prev_x, kof) / (result_function(prev_x, kof) - result_function(x0, kof)) * (prev_x - x0)\n",
    "        \n",
    "        # Перевірка умови збіжності\n",
    "        if abs(current_x - prev_x) < e:\n",
    "            break\n",
    "        \n",
    "        prev_x = current_x\n",
    "    \n",
    "    print(\"Number of iteration:\", n)\n",
    "    return current_x\n",
    "\n",
    "    \n",
    "def method_newton(kof, a, b):\n",
    "    # Задання точності\n",
    "    e = 0.000001\n",
    "    \n",
    "    # Обчислення похідних\n",
    "    fkof = derivative(kof)\n",
    "    skof = derivative(fkof)\n",
    "    \n",
    "    # Вибір початкової точки\n",
    "    if result_function((a + b) / 2, fkof) * result_function((a + b) / 2, skof) > 0:\n",
    "        prev_x = b\n",
    "    else:\n",
    "        prev_x = a\n",
    "    \n",
    "    current_x = 0\n",
    "    n = 0\n",
    "    \n",
    "    while True:\n",
    "        n += 1\n",
    "        # Обчислення нового наближення за формулою методу Ньютона\n",
    "        current_x = prev_x - result_function(prev_x, kof) / result_function(prev_x, fkof)\n",
    "\n",
    "        # Перевірка умови збіжності\n",
    "        if abs(current_x - prev_x) < e:\n",
    "            break\n",
    "        \n",
    "        prev_x = current_x\n",
    "    \n",
    "    print(\"Number of iteration:\", n)\n",
    "    return current_x\n",
    "\n",
    "alhpa = 3 \n",
    "cooficients_lab:float = [0.0, -2.0, 1.0, 5.0, -2.0, 1.0]\n",
    "a5, a4, a3, a2, a1, a0 = cooficients_lab\n",
    "k = 3\n",
    "expression = f\"{a5}*(1+{alhpa})*x^5+{a4}*x^4+{a3}*x^3+{a2}*x^2+{a1}*x+{k*a0}\"\n",
    "simplified = \"-2x^4 + 1x^3 + 5x^2 - 2x^1 + 3\"\n",
    "koef = [-2, 1,  5, -2, 3]"
   ]
  },
  {
   "cell_type": "code",
   "execution_count": 12,
   "metadata": {},
   "outputs": [
    {
     "name": "stdout",
     "output_type": "stream",
     "text": [
      "Number of iteration: 7\n",
      "Number of iteration: 13\n",
      "Number of iteration: 21\n",
      "\n",
      "Raw Expression: 0.0*(1+3)*x^5+-2.0*x^4+1.0*x^3+5.0*x^2+-2.0*x+3.0\n",
      "Expression:     -2x^4 + 1x^3 + 5x^2 - 2x^1 + 3\n",
      "Newton:    -1.6726323 \n",
      "Chord:     -1.6726318\n",
      "Bisection: -1.6726332\n",
      "\n"
     ]
    },
    {
     "data": {
      "text/plain": [
       "True"
      ]
     },
     "execution_count": 12,
     "metadata": {},
     "output_type": "execute_result"
    }
   ],
   "source": [
    "\n",
    "newton = method_newton(koef, -3, -1)\n",
    "chord = method_chord(koef,  -2, -1)\n",
    "bisection = method_bisection(koef, -3, -1)\n",
    "print(f\"\"\"\n",
    "Raw Expression: {expression}\n",
    "Expression:     {simplified}\n",
    "Newton:    {newton:2.7f} \n",
    "Chord:     {chord:2.7f}\n",
    "Bisection: {bisection:2.7f}\n",
    "\"\"\")\n",
    "\n",
    "round(newton, 5) == round(chord, 5) == round(bisection, 5)"
   ]
  },
  {
   "cell_type": "code",
   "execution_count": null,
   "metadata": {},
   "outputs": [],
   "source": []
  },
  {
   "cell_type": "code",
   "execution_count": null,
   "metadata": {},
   "outputs": [],
   "source": []
  }
 ],
 "metadata": {
  "kernelspec": {
   "display_name": "base310",
   "language": "python",
   "name": "python3"
  },
  "language_info": {
   "codemirror_mode": {
    "name": "ipython",
    "version": 3
   },
   "file_extension": ".py",
   "mimetype": "text/x-python",
   "name": "python",
   "nbconvert_exporter": "python",
   "pygments_lexer": "ipython3",
   "version": "3.10.14"
  }
 },
 "nbformat": 4,
 "nbformat_minor": 2
}
