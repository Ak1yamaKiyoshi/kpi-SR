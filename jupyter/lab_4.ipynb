{
 "cells": [
  {
   "cell_type": "code",
   "execution_count": 1,
   "metadata": {},
   "outputs": [],
   "source": [
    "import numpy as np\n",
    "np.set_printoptions(precision=5, suppress=False)"
   ]
  },
  {
   "cell_type": "code",
   "execution_count": 2,
   "metadata": {},
   "outputs": [],
   "source": [
    "## Utils\n",
    "def multiply_arrays(matrixF, matrixS):\n",
    "    \"\"\"\n",
    "    Function to multiply two matrices.\n",
    "    Assumes matrixF is m x n and matrixS is n x p.\n",
    "    Returns a matrix of size m x p.\n",
    "    \"\"\"\n",
    "    m = len(matrixF)\n",
    "    n = len(matrixF[0])\n",
    "    p = len(matrixS[0])\n",
    "    if n != len(matrixS):\n",
    "        return None\n",
    "    matrixR = [[0 for _ in range(p)] for _ in range(m)]\n",
    "    for i in range(m):\n",
    "        for j in range(p):\n",
    "            for k in range(n):\n",
    "                matrixR[i][j] += matrixF[i][k] * matrixS[k][j]\n",
    "    return matrixR\n",
    "\n",
    "def multiply3Arrays(matrixF, matrixS, matrixT):\n",
    "    if len(matrixF[0]) != len(matrixS):\n",
    "        return None\n",
    "    \n",
    "    matrixR = multiply_arrays(matrixF, matrixS)\n",
    "    matrixR = multiply_arrays(matrixR, matrixT)\n",
    "    return matrixR\n",
    "\n",
    "def matrixA_to_normal_frobenius_form(matrixA:np.ndarray):\n",
    "    P = matrixA.copy()\n",
    "    n = len(matrixA)\n",
    "    matrixM = [[0] * n for _ in range(n)]\n",
    "    matrixMInverse = [[0] * n for _ in range(n)]\n",
    "    for i in range(n):\n",
    "        matrixM[i][i] = 1\n",
    "        matrixMInverse[i][i] = 1\n",
    "    \n",
    "    m = n - 1\n",
    "    \n",
    "    for k in range(m):\n",
    "        for i in range(1, m + 1):\n",
    "            for j in range(m + 1):\n",
    "                if m - k == m - i + 1:\n",
    "                    if j != m - i:\n",
    "                        matrixM[m - i][j] = -1 * P[m - i + 1][j] / P[m - i + 1][m - k - 1]\n",
    "                    else:\n",
    "                        matrixM[m - i][j] = 1 / P[m - i + 1][m - k - 1]\n",
    "                    matrixMInverse[m - i][j] = P[m - i + 1][j]\n",
    "\n",
    "        for i in range(n):\n",
    "            for j in range(n):\n",
    "                if i == m - k:\n",
    "                    if i == j:\n",
    "                        matrixM[i][j] = 1\n",
    "                        matrixMInverse[i][j] = 1\n",
    "                    else:\n",
    "                        matrixM[i][j] = 0\n",
    "                        matrixMInverse[i][j] = 0\n",
    "        \n",
    "        tempArray1 = matrixM.copy()\n",
    "        tempArray2 = matrixMInverse.copy()\n",
    "        \n",
    "        print()\n",
    "        print(f\"MatrixM{m-k}inverse\")\n",
    "        print(np.array(matrixMInverse))\n",
    "        print(f\"MatrixA{k+1}\")\n",
    "        print(np.array(P))\n",
    "        print(f\"MatrixM{m-k}\")\n",
    "        print(np.array(matrixM))\n",
    "        \n",
    "        P = multiply3Arrays(tempArray2, P, tempArray1)\n",
    "    return P"
   ]
  },
  {
   "cell_type": "code",
   "execution_count": 3,
   "metadata": {},
   "outputs": [
    {
     "name": "stdout",
     "output_type": "stream",
     "text": [
      "Matrix A: \n"
     ]
    },
    {
     "data": {
      "text/plain": [
       "array([[7.03 , 1.14 , 0.93 , 1.135],\n",
       "       [1.14 , 3.39 , 1.3  , 0.16 ],\n",
       "       [0.93 , 1.3  , 6.21 , 2.1  ],\n",
       "       [1.135, 0.16 , 2.1  , 5.33 ]])"
      ]
     },
     "execution_count": 3,
     "metadata": {},
     "output_type": "execute_result"
    }
   ],
   "source": [
    "## Coefficients \n",
    "t = 7.0\n",
    "k = 3 * (3 - 4) + 1\n",
    "a = 0.11 * t\n",
    "b = 0.02 * k\n",
    "g = 0.02 * k\n",
    "d = 0.015 * t\n",
    "\n",
    "matrixA = np.array([\n",
    "    [6.26 + a, 1.10 - b, 0.97 + g, 1.24 - d],\n",
    "    [1.10 - b, 4.16 - a, 1.30, 0.16],\n",
    "    [0.97 + g, 1.30, 5.44 + a, 2.1],\n",
    "    [1.24 - d, 0.16, 2.10, 6.10 - a]\n",
    "])\n",
    "\n",
    "print(\"Matrix A: \")\n",
    "matrixA"
   ]
  },
  {
   "cell_type": "code",
   "execution_count": 4,
   "metadata": {},
   "outputs": [
    {
     "name": "stdout",
     "output_type": "stream",
     "text": [
      "\n",
      "MatrixM3inverse\n",
      "[[1.    0.    0.    0.   ]\n",
      " [0.    1.    0.    0.   ]\n",
      " [1.135 0.16  2.1   5.33 ]\n",
      " [0.    0.    0.    1.   ]]\n",
      "MatrixA1\n",
      "[[7.03  1.14  0.93  1.135]\n",
      " [1.14  3.39  1.3   0.16 ]\n",
      " [0.93  1.3   6.21  2.1  ]\n",
      " [1.135 0.16  2.1   5.33 ]]\n",
      "MatrixM3\n",
      "[[ 1.       0.       0.       0.     ]\n",
      " [ 0.       1.       0.       0.     ]\n",
      " [-0.54048 -0.07619  0.47619 -2.5381 ]\n",
      " [ 0.       0.       0.       1.     ]]\n",
      "\n",
      "MatrixM2inverse\n",
      "[[  1.        0.        0.        0.     ]\n",
      " [  2.38318   3.47643  12.14169 -30.58249]\n",
      " [  0.        0.        1.        0.     ]\n",
      " [  0.        0.        0.        1.     ]]\n",
      "MatrixA2\n",
      "[[  6.52736   1.06914   0.44286  -1.22543]\n",
      " [  0.43738   3.29095   0.61905  -3.13952]\n",
      " [  2.38318   3.47643  12.14169 -30.58249]\n",
      " [  0.        0.        1.        0.     ]]\n",
      "MatrixM2\n",
      "[[ 1.       0.       0.       0.     ]\n",
      " [-0.68553  0.28765 -3.49257  8.7971 ]\n",
      " [ 0.       0.       1.       0.     ]\n",
      " [ 0.       0.       0.       1.     ]]\n",
      "\n",
      "MatrixM1inverse\n",
      "[[  7.48677  16.16557 -76.23167 109.22541]\n",
      " [  0.        1.        0.        0.     ]\n",
      " [  0.        0.        1.        0.     ]\n",
      " [  0.        0.        0.        1.     ]]\n",
      "MatrixA3\n",
      "[[  5.79443   0.30754  -3.2912    8.17992]\n",
      " [  7.48677  16.16557 -76.23167 109.22541]\n",
      " [  0.        1.        0.        0.     ]\n",
      " [  0.        0.        1.        0.     ]]\n",
      "MatrixM1\n",
      "[[  0.13357  -2.15922  10.18218 -14.58912]\n",
      " [  0.        1.        0.        0.     ]\n",
      " [  0.        0.        1.        0.     ]\n",
      " [  0.        0.        0.        1.     ]]\n",
      "Array A in normal form P: \n"
     ]
    },
    {
     "data": {
      "text/plain": [
       "[[21.96, -167.59947499999998, 526.3041860000001, -571.6580448124994],\n",
       " [1.0, 0.0, 0.0, 0.0],\n",
       " [0.0, 1.0, 0.0, 0.0],\n",
       " [0.0, 0.0, 1.0, 0.0]]"
      ]
     },
     "execution_count": 4,
     "metadata": {},
     "output_type": "execute_result"
    }
   ],
   "source": [
    "normal_form = matrixA_to_normal_frobenius_form(matrixA)\n",
    "print(\"Array A in normal form P: \")\n",
    "normal_form\n"
   ]
  }
 ],
 "metadata": {
  "kernelspec": {
   "display_name": "base310",
   "language": "python",
   "name": "python3"
  },
  "language_info": {
   "codemirror_mode": {
    "name": "ipython",
    "version": 3
   },
   "file_extension": ".py",
   "mimetype": "text/x-python",
   "name": "python",
   "nbconvert_exporter": "python",
   "pygments_lexer": "ipython3",
   "version": "3.10.14"
  }
 },
 "nbformat": 4,
 "nbformat_minor": 2
}
