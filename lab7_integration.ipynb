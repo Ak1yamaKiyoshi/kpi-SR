{
 "cells": [
  {
   "cell_type": "code",
   "execution_count": 3,
   "metadata": {},
   "outputs": [],
   "source": [
    "import numpy as np\n",
    "from scipy.special import factorial\n",
    "from scipy import misc\n",
    "from scipy import integrate\n",
    "import sympy as sp"
   ]
  },
  {
   "cell_type": "code",
   "execution_count": 4,
   "metadata": {},
   "outputs": [],
   "source": [
    "x_sympy = sp.Symbol('x')\n",
    "f_sympy = sp.cos(x_sympy) / (x_sympy + 1)"
   ]
  },
  {
   "cell_type": "code",
   "execution_count": 30,
   "metadata": {},
   "outputs": [],
   "source": [
    "def f(x: np.ndarray):\n",
    "    return np.cos(x) / (x + 1)\n",
    "\n",
    "def f_prime2(x: np.ndarray):\n",
    "    return (2 * ((x + 1) * np.sin(x) + np.cos(x))) / (x + 1)**3 - np.cos(x) / (x + 1)\n",
    "\n",
    "def nth_derivative(expr, var, n):\n",
    "    d_expr = sp.diff(expr, var, n)\n",
    "    return sp.lambdify([var], d_expr, modules='numpy'), d_expr\n",
    "\n",
    "def gaussian_quadrature(f, a, b, m): # чому нампай ане руками\n",
    "    z, w = np.polynomial.legendre.leggauss(m) # що таке поліноми лежандра \n",
    "    # як обраховуються поліноми лежандра \n",
    "    # чому поліноми лежандра використовуються як ваги для квадратури \n",
    "    x = 0.5 * ((b - a) * z + b + a) \n",
    "    w = 0.5 * (b - a) * w # що таке ваги у квадратурі гауса \n",
    "    return np.sum(w * f(x)) \n",
    "\n",
    "def trapezoidal_rule(n, f, f_prime2, b, a):\n",
    "    x = np.linspace(b, a, n+1)\n",
    "    fx = f(x)\n",
    "    h = (b - a) / n\n",
    "    integral = h * (0.5 * fx[0] + np.sum(fx[1:-1]) + 0.5 * fx[-1])\n",
    "    threoretical_error = ((b - a)**3 / (12 * n**2)) * np.max(np.abs(f_prime2(x)))\n",
    "    return integral, threoretical_error\n",
    "\n",
    "def trapezoidal_rule_error_estimate(f, a, b, m):\n",
    "    x = np.linspace(a, b, 1000)\n",
    "    \n",
    "    x_sympy = sp.Symbol('x')\n",
    "    f_sympy = sp.cos(x_sympy) / (x_sympy + 1)\n",
    "    f2m_prime, f2m_prime_vis = nth_derivative(f_sympy, x_sympy, 2*m)\n",
    "\n",
    "    print(f2m_prime_vis)\n",
    "    f_2m = f2m_prime(x)\n",
    "    \n",
    "    max_f_2m = np.max(np.abs(f_2m))\n",
    "    term1 = factorial(m)**4\n",
    "    term2 = (b - a)**(2*m+1)\n",
    "    term3 = (2*m+1) * factorial(2*m)**3\n",
    "    term4 = max_f_2m\n",
    "    \n",
    "    result = (term1 * term2) / (term3) * term4\n",
    "    return result\n",
    "\n",
    "def gaussian_quadrature_error_estimate(f, a, b, m):\n",
    "    z, w = np.polynomial.legendre.leggauss(m)\n",
    "    # change please to one that in pdf \n",
    "    x = 0.5 * ((b - a) * z + b + a)\n",
    "\n",
    "    f2m_prime = nth_derivative(f_sympy, x_sympy, 2*m)[0]\n",
    "    f_2m = f2m_prime(x)\n",
    "    max_f_2m = np.max(np.abs(f_2m))\n",
    "    return ((factorial(m)**4 * (b - a)**(2*m+1)) / \n",
    "            ((2*m+1) * factorial(2*m)**3)) * max_f_2m"
   ]
  },
  {
   "cell_type": "code",
   "execution_count": 31,
   "metadata": {},
   "outputs": [
    {
     "name": "stdout",
     "output_type": "stream",
     "text": [
      "m: 2, 0.0000001614\n",
      "\n",
      "Integral of cos(x)/(x + 1) at (0.8, 1.07) \n",
      "m of 2 with analytical error of 0.0000001614\n",
      "\n",
      "Gaussian quadrature\n",
      "-> 0.08309376731972307\n",
      "\n",
      "actual error: \n",
      "-> -0.0000001227\n",
      "\n"
     ]
    }
   ],
   "source": [
    "a, b = 0.8, 1.07\n",
    "tolerance = 0.0001\n",
    "\n",
    "for mtemp in range(1, 10):\n",
    "    estimate = gaussian_quadrature_error_estimate(f, a, b, mtemp)\n",
    "    if estimate < tolerance:\n",
    "        print(f\"m: {mtemp}, {estimate:0.10f}\")\n",
    "        m = mtemp\n",
    "        break\n",
    "\n",
    "print(f\"\"\"\n",
    "Integral of {f_sympy} at ({a}, {b}) \n",
    "m of {m} with analytical error of {estimate:0.10f}\n",
    "\n",
    "Gaussian quadrature\n",
    "-> {gaussian_quadrature(f, a, b, m)}\n",
    "\n",
    "actual error: \n",
    "-> {gaussian_quadrature(f, a, b, m) - integrate.quad(f, a, b)[0]:1.10f}\n",
    "\"\"\")"
   ]
  },
  {
   "cell_type": "code",
   "execution_count": 34,
   "metadata": {},
   "outputs": [
    {
     "name": "stdout",
     "output_type": "stream",
     "text": [
      "(-cos(x) + 2*sin(x)/(x + 1) + 2*cos(x)/(x + 1)**2)/(x + 1)\n"
     ]
    },
    {
     "data": {
      "text/plain": [
       "np.float64(0.0002416732885754714)"
      ]
     },
     "execution_count": 34,
     "metadata": {},
     "output_type": "execute_result"
    }
   ],
   "source": [
    "trapezoidal_rule_error_estimate(f, a, b, 2)"
   ]
  },
  {
   "cell_type": "code",
   "execution_count": 35,
   "metadata": {},
   "outputs": [
    {
     "data": {
      "text/plain": [
       "(np.float64(0.08309861298170938), np.float64(4.833465771509429e-06))"
      ]
     },
     "execution_count": 35,
     "metadata": {},
     "output_type": "execute_result"
    }
   ],
   "source": [
    "trapezoidal_rule(10, f, f_prime2, b, a)"
   ]
  },
  {
   "cell_type": "code",
   "execution_count": null,
   "metadata": {},
   "outputs": [],
   "source": []
  },
  {
   "cell_type": "code",
   "execution_count": null,
   "metadata": {},
   "outputs": [],
   "source": []
  },
  {
   "cell_type": "code",
   "execution_count": null,
   "metadata": {},
   "outputs": [],
   "source": []
  },
  {
   "cell_type": "code",
   "execution_count": null,
   "metadata": {},
   "outputs": [],
   "source": []
  }
 ],
 "metadata": {
  "kernelspec": {
   "display_name": "Python 3",
   "language": "python",
   "name": "python3"
  },
  "language_info": {
   "codemirror_mode": {
    "name": "ipython",
    "version": 3
   },
   "file_extension": ".py",
   "mimetype": "text/x-python",
   "name": "python",
   "nbconvert_exporter": "python",
   "pygments_lexer": "ipython3",
   "version": "3.10.14"
  }
 },
 "nbformat": 4,
 "nbformat_minor": 2
}
